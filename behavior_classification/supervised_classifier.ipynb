{
 "cells": [
  {
   "cell_type": "code",
   "execution_count": 36,
   "id": "b7d38060",
   "metadata": {},
   "outputs": [
    {
     "data": {
      "text/html": [
       "<style>.container { width:65% !important; }</style>"
      ],
      "text/plain": [
       "<IPython.core.display.HTML object>"
      ]
     },
     "metadata": {},
     "output_type": "display_data"
    }
   ],
   "source": [
    "import numpy as np\n",
    "import time\n",
    "import pandas as pd\n",
    "import os\n",
    "import matplotlib.pyplot as plt\n",
    "import seaborn as sns\n",
    "import re\n",
    "import pickle\n",
    "from IPython.display import display, HTML\n",
    "from statsmodels import robust\n",
    "import pickle\n",
    "from scipy.ndimage import filters\n",
    "from scipy.ndimage import gaussian_filter1d\n",
    "from sklearn.metrics import auc\n",
    "from tqdm import tqdm\n",
    "display(HTML(\"<style>.container { width:65% !important; }</style>\"))"
   ]
  },
  {
   "cell_type": "markdown",
   "id": "15138890",
   "metadata": {},
   "source": [
    "## Supervised behavior segmentation"
   ]
  },
  {
   "cell_type": "markdown",
   "id": "6929a488",
   "metadata": {},
   "source": [
    "Functions"
   ]
  },
  {
   "cell_type": "code",
   "execution_count": 37,
   "id": "3d781629",
   "metadata": {},
   "outputs": [],
   "source": [
    "import difflib\n",
    "import h5py\n",
    "\n",
    "def format_boris(boris_path, boris_fps=40):\n",
    "    \n",
    "    # load boris data if given full path in str; fps is given by boris csv\n",
    "\n",
    "    boris_df = pd.read_csv(boris_path, skiprows=16, sep=',', header=None).drop([1, 2, 3, 4, 6, 7], axis=1)\n",
    "    if boris_df.iloc[0, 0] == 'Time':\n",
    "        boris_df = boris_df.iloc[1:, :]\n",
    "    boris_df.columns = ['Frame', 'Behavior', 'State']\n",
    "    boris_df['Frame'] = boris_df['Frame'].astype(float) * boris_fps\n",
    "    boris_df['Frame'] = boris_df['Frame'].astype(int)\n",
    "\n",
    "    return boris_df\n",
    "\n",
    "def extract_frames(z):\n",
    "    # extract frame indices for behaviors of interest from boris file\n",
    "    z = [np.arange(behs['Frame'].values[z[i]], behs['Frame'].values[z[i+1]]+1) for i, l in enumerate(z) if i % 2 == 0]\n",
    "    return np.concatenate(z).ravel()\n",
    "\n",
    "def split_trials(lst, n=1):\n",
    "    # splits frame groups of behaviors for PETH analysis\n",
    "    indices = [i + 1 for (x, y, i) in zip(lst, lst[1:], range(len(lst))) if n < abs(x - y)]\n",
    "    return [lst[start:end] for start, end in zip([0] + indices, indices + [len(lst)])]\n"
   ]
  },
  {
   "cell_type": "markdown",
   "id": "8d42c7df",
   "metadata": {},
   "source": [
    "Inits"
   ]
  },
  {
   "cell_type": "code",
   "execution_count": 38,
   "id": "d0899085",
   "metadata": {},
   "outputs": [
    {
     "name": "stdout",
     "output_type": "stream",
     "text": [
      "Sample boris files:\n",
      "['//Volumes/Storage/boris/boris_exports/107352_d2_balbc.csv'\n",
      " '//Volumes/Storage/boris/boris_exports/29L_d8_balbc_t2.csv'\n",
      " '//Volumes/Storage/boris/boris_exports/29L_d8_balbc_t3.csv']\n",
      "Sample feature files:\n",
      "['//Volumes/Storage/data/processed_features_020924/100566_d1_balbc_zscored_features.parquet'\n",
      " '//Volumes/Storage/data/processed_features_020924/100566_d2_balbc_zscored_features.parquet'\n",
      " '//Volumes/Storage/data/processed_features_020924/100566_d3_balbc_zscored_features.parquet']\n",
      "Sample h5 files:\n",
      "['//Volumes/Storage/data/h5_files/h5_files/107335_d1_balbc_spinview_topCam-01152022190015-0000.avi.mp4.CLEANED.slp.h5'\n",
      " '//Volumes/Storage/data/h5_files/h5_files/107335_d2_balbc_spinview_topCam-01162022191041-0000.avi.mp4.CLEANED.slp.h5'\n",
      " '//Volumes/Storage/data/h5_files/h5_files/107335_d3_balbc_spinview_topCam-01172022170829-0000.avi.mp4.CLEANED.slp.h5']\n"
     ]
    }
   ],
   "source": [
    "boris_dir = '//Volumes/Storage/boris/boris_exports/'\n",
    "boris_files = np.sort([boris_dir + x for x in os.listdir(boris_dir) if '.csv' in x and '._' not in x])\n",
    "print('Sample boris files:')\n",
    "print(boris_files[:3])\n",
    "features_dir = '//Volumes/Storage/data/processed_features_020924/'\n",
    "feature_files = np.sort([features_dir + x for x in os.listdir(features_dir) if '.parquet' in x])\n",
    "print('Sample feature files:')\n",
    "print(feature_files[:3])\n",
    "h5_dir =  '//Volumes/Storage/data/h5_files/h5_files/'\n",
    "h5_files = np.sort([h5_dir + x for x in os.listdir(h5_dir) if '.h5' in x])\n",
    "print('Sample h5 files:')\n",
    "print(h5_files[:3])"
   ]
  },
  {
   "cell_type": "code",
   "execution_count": 19,
   "id": "2478a674",
   "metadata": {},
   "outputs": [
    {
     "name": "stderr",
     "output_type": "stream",
     "text": [
      "100%|██████████| 504/504 [03:40<00:00,  2.29it/s]\n"
     ]
    }
   ],
   "source": [
    "\t\t\t   # DISTANCES\n",
    "feats_list1 =  ['proximity', 'resident2intruder head-head', 'resident2intruder head-tti', 'intruder2resident head-tti',\n",
    "\t\t\t   # SOCIAL ORIENTATIONS\n",
    "\t\t\t   'resident2intruder head2centroid angle', 'intruder2resident head2centroid angle',\n",
    "\t\t\t   # SPEEDS\n",
    "\t\t\t   'resident centroid roc 100 ms', 'intruder centroid roc 100 ms', 'resident head roc 100 ms', 'intruder head roc 100 ms',\n",
    "\t\t\t   # POSTURAL INFORMATION\n",
    "\t\t\t   'resident centroid2nose angle', 'intruder centroid2nose angle', 'resident tti2head', 'intruder tti2head']\n",
    "\n",
    "\t\t\t   # DISTANCES\n",
    "feats_list2 =  ['proximity', 'resident2intruder head-head', 'resident2intruder head-tti', 'intruder2resident head-tti',\n",
    "\t\t\t   # SOCIAL ORIENTATIONS\n",
    "\t\t\t   'resident2intruder head2centroid angle', 'intruder2resident head2centroid angle',\n",
    "\t\t\t   # SPEEDS\n",
    "\t\t\t   'resident centroid roc 100 ms', 'intruder centroid roc 100 ms', 'resident head roc 100 ms', 'intruder head roc 100 ms',\n",
    "\t\t\t   'resident centroid roc 100 ms sum across lags', 'intruder centroid roc 100 ms sum across lags', 'resident head roc 100 ms sum across lags', 'intruder head roc 100 ms sum across lags',\n",
    "\t\t\t   # IoU\n",
    "\t\t\t   'ious',\n",
    "\t\t\t   # POSTURAL INFORMATION\n",
    "\t\t\t   'resident centroid2nose angle', 'intruder centroid2nose angle', 'resident tti2head', 'intruder tti2head']\n",
    "\n",
    "\t\t\t   # DISTANCES\n",
    "feats_list3 =  ['proximity', 'resident2intruder head-head', 'resident2intruder head-tti', 'intruder2resident head-tti',\n",
    "\t\t\t   # SOCIAL ORIENTATIONS\n",
    "\t\t\t   'resident2intruder head2centroid angle', 'intruder2resident head2centroid angle',\n",
    "\t\t\t   # SPEEDS\n",
    "\t\t\t   'resident centroid roc 100 ms', 'intruder centroid roc 100 ms', 'resident head roc 100 ms', 'intruder head roc 100 ms',\n",
    "\t\t\t   'resident centroid roc 100 ms sum across lags', 'intruder centroid roc 100 ms sum across lags', 'resident head roc 100 ms sum across lags', 'intruder head roc 100 ms sum across lags',\n",
    "\t\t\t   # IoU and pixel change\n",
    "\t\t\t   'ious',\n",
    "\t\t\t   # POSTURAL INFORMATION\n",
    "\t\t\t   'resident centroid2nose angle', 'intruder centroid2nose angle', 'resident tti2head', 'intruder tti2head']\n",
    "\n",
    "\t\t\t   # DISTANCES\n",
    "feats_list4 =  ['proximity', 'resident2intruder head-head', 'resident2intruder head-tti', 'intruder2resident head-tti',\n",
    "\t\t\t   # SOCIAL ORIENTATIONS\n",
    "\t\t\t   'resident2intruder head2centroid angle', 'intruder2resident head2centroid angle',\n",
    "\t\t\t   # SPEEDS\n",
    "\t\t\t   'resident centroid roc 100 ms', 'intruder centroid roc 100 ms', 'resident head roc 100 ms', 'intruder head roc 100 ms', 'proximity roc 100 ms',\n",
    "\t\t\t   'resident centroid roc 100 ms sum across lags', 'intruder centroid roc 100 ms sum across lags', 'resident head roc 100 ms sum across lags', 'intruder head roc 100 ms sum across lags',\n",
    "\t\t\t   'proximity roc 100 ms sum across lags',\n",
    "\t\t\t   # IoU and pixel change\n",
    "\t\t\t   'ious',\n",
    "\t\t\t   # POSTURAL INFORMATION\n",
    "\t\t\t   'resident centroid2nose angle', 'intruder centroid2nose angle', 'resident tti2head', 'intruder tti2head']\n",
    "\n",
    "\t\t\t   \n",
    "feats_list5 =  ['ious sum across lags', 'resident centroid roc 50 ms', 'intruder centroid roc 50 ms', 'resident head roc 50 ms', 'intruder head roc 50 ms',\n",
    "\t\t\t\t'resident centroid roc 50 ms sum across lags', 'intruder centroid roc 50 ms sum across lags', 'resident head roc 50 ms sum across lags', 'intruder head roc 50 ms sum across lags',\n",
    "\t\t\t\t'resident centroid roc 500 ms', 'intruder centroid roc 500 ms', 'resident head roc 500 ms', 'intruder head roc 500 ms',\n",
    "\t\t\t\t'resident centroid roc 500 ms sum across lags', 'intruder centroid roc 500 ms sum across lags', 'resident head roc 500 ms sum across lags', 'intruder head roc 500 ms sum across lags']\n",
    "\n",
    "\n",
    "feats_list = list(set(feats_list1 + feats_list2 + feats_list3 + feats_list4 + feats_list5))\n",
    "feats_list.sort()\n",
    "feats_list = np.asarray(feats_list)\n",
    "\n",
    "# from tqdm import tqdm\n",
    "\n",
    "features = {}\n",
    "implanted_list = ['3095', '3096', '3097', '4013', '4014', '4015', '4016', '29L', '30R2', '30B', '91R2', '30L', '87R2', '87L', '87B', '87L2', '86L', '86L2']\n",
    "feats_path = \"//Volumes/Storage/data/processed_features_020924/\"\n",
    "feat_pickles = np.sort([x for x in os.listdir(feats_path) if 'zscored' in x])\n",
    "for session in tqdm(np.sort(feat_pickles)):\n",
    "    if any(imp in session for imp in implanted_list):\n",
    "        n = 4\n",
    "    else:\n",
    "        n = 3\n",
    "    z = pd.read_parquet(feats_path + session, columns=feats_list)\n",
    "    features['_'.join(session.split('_')[:n])] = z"
   ]
  },
  {
   "cell_type": "markdown",
   "id": "e79d175e",
   "metadata": {},
   "source": [
    "Extract frames"
   ]
  },
  {
   "cell_type": "code",
   "execution_count": 20,
   "id": "a28a2384",
   "metadata": {},
   "outputs": [
    {
     "name": "stdout",
     "output_type": "stream",
     "text": [
      "Writing 107352_d2_balbc into all_bfiles\n",
      "Writing 29L_d8_balbc_t2 into all_bfiles\n",
      "Writing 29L_d8_balbc_t3 into all_bfiles\n",
      "Writing 29L_d9_OBSmCD1_t1 into all_bfiles\n",
      "Writing 29L_d9_mCD1_t1 into all_bfiles\n",
      "Writing 29L_d9_mCD1_t2 into all_bfiles\n",
      "Writing 3095_d2_balbc_t3 into all_bfiles\n",
      "Writing 3095_d3_balbc_t1 into all_bfiles\n",
      "Writing 3095_d3_balbc_t2 into all_bfiles\n",
      "Writing 3095_d3_balbc_t3 into all_bfiles\n",
      "Writing 3095_d4_balbc_t1 into all_bfiles\n",
      "Writing 3095_d4_balbc_t2 into all_bfiles\n",
      "Writing 3095_d4_balbc_t3 into all_bfiles\n",
      "Writing 3095_d5_balbc_t1 into all_bfiles\n",
      "Writing 3095_d5_balbc_t2 into all_bfiles\n",
      "Writing 3095_d5_balbc_t3 into all_bfiles\n",
      "Writing 3095_d6_balbc_t1 into all_bfiles\n",
      "Writing 3095_d8_balbc_t1 into all_bfiles\n",
      "Writing 3095_d9_mCD1_t2 into all_bfiles\n",
      "Writing 3095_d9_mCD1_t3 into all_bfiles\n",
      "Writing 3097_d9_mCD1_t3 into all_bfiles\n",
      "Writing 30B_d9_mCD1_t3 into all_bfiles\n",
      "Writing 30L_d4_balbc_t1 into all_bfiles\n",
      "Writing 30L_d8_balbc_t1 into all_bfiles\n",
      "Writing 30L_d9_mCD1_t1 into all_bfiles\n",
      "Writing 30L_d9_mCD1_t3 into all_bfiles\n",
      "Writing 30R2_d9_OBSmCD1_t1 into all_bfiles\n",
      "Writing 30R2_d9_OBSmCD1_t3 into all_bfiles\n",
      "Writing 4013_d1_balbc_t2 into all_bfiles\n",
      "Writing 4014_d9_mCD1_t1 into all_bfiles\n",
      "Writing 4014_d9_mCD1_t2 into all_bfiles\n",
      "Writing 4014_d9_mCD1_t3 into all_bfiles\n",
      "Writing 4015_d8_balbc_t1 into all_bfiles\n",
      "Writing 4015_d9_mCD1_t1 into all_bfiles\n",
      "Writing 4015_d9_mCD1_t2 into all_bfiles\n",
      "Writing 4015_d9_mCD1_t3 into all_bfiles\n",
      "Writing 4016_d9_mCD1_t1 into all_bfiles\n",
      "Writing 4016_d9_mCD1_t2 into all_bfiles\n",
      "Writing 86L2_d9_toyCD1_t1 into all_bfiles\n",
      "Writing 87L2_d9_OBSmCD1_t1 into all_bfiles\n",
      "Writing 87L2_d9_OBSmCD1_t2 into all_bfiles\n",
      "Writing 87L2_d9_OBSmCD1_t3 into all_bfiles\n",
      "Writing 87L_d9_toyCD1_t2 into all_bfiles\n",
      "Writing 87L_d9_toyCD1_t3 into all_bfiles\n",
      "Writing 87R2_d9_toyCD1_t2 into all_bfiles\n",
      "Writing 91R2_d1_balbc_t1 into all_bfiles\n",
      "Writing 91R2_d1_balbc_t2 into all_bfiles\n",
      "Writing 91R2_d2_balbc_t2 into all_bfiles\n",
      "Writing 91R2_d9_mCD1_t2 into all_bfiles\n"
     ]
    }
   ],
   "source": [
    "### filter out boris files for ones that contain aggression and investigation\n",
    "from pandas.errors import EmptyDataError\n",
    "all_bfiles = {}\n",
    "for bfile in boris_files:\n",
    "    try: behs = format_boris(bfile)\n",
    "    except EmptyDataError: continue\n",
    "    # check if there is aggression\n",
    "    if behs['Behavior'].str.contains('unilateral_attack_resident|fight_from_resident_with_resistance|attack/fight|fight_from_intruder_with_resistance').any():\n",
    "        print('Writing %s into all_bfiles' % (bfile.split('/')[-1].split('.')[0]))\n",
    "        all_bfiles[bfile.split('/')[-1].split('.')[0]] = behs"
   ]
  },
  {
   "cell_type": "code",
   "execution_count": 33,
   "id": "bc50ef86",
   "metadata": {},
   "outputs": [
    {
     "name": "stdout",
     "output_type": "stream",
     "text": [
      "Number of videos with aggression: 49\n"
     ]
    }
   ],
   "source": [
    "n_videos = len(all_bfiles.keys())\n",
    "print('Number of videos with aggression: %d' % n_videos)"
   ]
  },
  {
   "cell_type": "code",
   "execution_count": 21,
   "id": "a2ac1c3b",
   "metadata": {},
   "outputs": [
    {
     "name": "stdout",
     "output_type": "stream",
     "text": [
      "107352_d2_balbc\n",
      "//Volumes/Storage/data/h5_files/h5_files/107352_d2_balbc_spinview_topCam-03032022181704-0000.avi.mp4.CLEANED.slp.h5\n",
      "//Volumes/Storage/data/processed_features_020924/107352_d2_balbc_zscored_features.parquet\n",
      "29L_d8_balbc_t2\n",
      "//Volumes/Storage/data/h5_files/h5_files/29L_d8_balbc_t2_topCam-05112023151303-0000.avi.mp4.CLEANED.slp.h5\n",
      "//Volumes/Storage/data/processed_features_020924/29L_d8_balbc_t2_zscored_features.parquet\n",
      "29L_d8_balbc_t3\n",
      "//Volumes/Storage/data/h5_files/h5_files/29L_d8_balbc_t3_topCam-05112023153043-0000.avi.mp4.CLEANED.slp.h5\n",
      "//Volumes/Storage/data/processed_features_020924/29L_d8_balbc_t3_zscored_features.parquet\n",
      "29L_d9_OBSmCD1_t1\n",
      "//Volumes/Storage/data/h5_files/h5_files/29L_d9_OBSmCD1_t1_topCam-05012023160242-0000.avi.mp4.CLEANED.slp.h5\n",
      "//Volumes/Storage/data/processed_features_020924/29L_d9_OBSmCD1_t1_zscored_features.parquet\n",
      "29L_d9_mCD1_t1\n",
      "//Volumes/Storage/data/h5_files/h5_files/29L_d9_mCD1_t1_topCam-05122023162500-0000.avi.mp4.CLEANED.slp.h5\n",
      "//Volumes/Storage/data/processed_features_020924/29L_d9_mCD1_t1_zscored_features.parquet\n",
      "29L_d9_mCD1_t2\n",
      "//Volumes/Storage/data/h5_files/h5_files/29L_d9_mCD1_t2_topCam-05122023163520-0000.avi.mp4.CLEANED.slp.h5\n",
      "//Volumes/Storage/data/processed_features_020924/29L_d9_mCD1_t2_zscored_features.parquet\n",
      "3095_d2_balbc_t3\n",
      "//Volumes/Storage/data/h5_files/h5_files/3095_d2_balbc_t3_top-06082022151815-0000.avi.mp4.CLEANED.slp.h5\n",
      "//Volumes/Storage/data/processed_features_020924/3095_d2_balbc_t3_zscored_features.parquet\n",
      "3095_d3_balbc_t1\n",
      "//Volumes/Storage/data/h5_files/h5_files/3095_d3_balbc_t1_top-06092022165549-0000.avi.mp4.CLEANED.slp.h5\n",
      "//Volumes/Storage/data/processed_features_020924/3095_d3_balbc_t1_zscored_features.parquet\n",
      "3095_d3_balbc_t2\n",
      "//Volumes/Storage/data/h5_files/h5_files/3095_d3_balbc_t2_top-06092022171603-0000.avi.mp4.CLEANED.slp.h5\n",
      "//Volumes/Storage/data/processed_features_020924/3095_d3_balbc_t2_zscored_features.parquet\n",
      "3095_d3_balbc_t3\n",
      "//Volumes/Storage/data/h5_files/h5_files/3095_d3_balbc_t3_top-06092022173144-0000.avi.mp4.CLEANED.slp.h5\n",
      "//Volumes/Storage/data/processed_features_020924/3095_d3_balbc_t3_zscored_features.parquet\n",
      "3095_d4_balbc_t1\n",
      "//Volumes/Storage/data/h5_files/h5_files/3095_d4_balbc_t1_top-06102022142547-0000.avi.mp4.CLEANED.slp.h5\n",
      "//Volumes/Storage/data/processed_features_020924/3095_d4_balbc_t1_zscored_features.parquet\n",
      "3095_d4_balbc_t2\n",
      "//Volumes/Storage/data/h5_files/h5_files/3095_d4_balbc_t2_top-06102022144651-0000.avi.mp4.CLEANED.slp.h5\n",
      "//Volumes/Storage/data/processed_features_020924/3095_d4_balbc_t2_zscored_features.parquet\n",
      "3095_d4_balbc_t3\n",
      "//Volumes/Storage/data/h5_files/h5_files/3095_d4_balbc_t3_top-06102022151028-0000.avi.mp4.CLEANED.slp.h5\n",
      "//Volumes/Storage/data/processed_features_020924/3095_d4_balbc_t3_zscored_features.parquet\n",
      "3095_d5_balbc_t1\n",
      "//Volumes/Storage/data/h5_files/h5_files/3095_d5_balbc_t1_top-06112022150334-0000.avi.mp4.CLEANED.slp.h5\n",
      "//Volumes/Storage/data/processed_features_020924/3095_d5_balbc_t1_zscored_features.parquet\n",
      "3095_d5_balbc_t2\n",
      "//Volumes/Storage/data/h5_files/h5_files/3095_d5_balbc_t2_top-06112022151833-0000.avi.mp4.CLEANED.slp.h5\n",
      "//Volumes/Storage/data/processed_features_020924/3095_d5_balbc_t2_zscored_features.parquet\n",
      "3095_d5_balbc_t3\n",
      "//Volumes/Storage/data/h5_files/h5_files/3095_d5_balbc_t3_top-06112022154107-0000.avi.mp4.CLEANED.slp.h5\n",
      "//Volumes/Storage/data/processed_features_020924/3095_d5_balbc_t3_zscored_features.parquet\n",
      "3095_d6_balbc_t1\n",
      "//Volumes/Storage/data/h5_files/h5_files/3095_d6_balbc_t1_top-06122022153750-0000.avi.mp4.CLEANED.slp.h5\n",
      "//Volumes/Storage/data/processed_features_020924/3095_d6_balbc_t1_zscored_features.parquet\n",
      "3095_d8_balbc_t1\n",
      "//Volumes/Storage/data/h5_files/h5_files/3095_d8_balbc_t1_top-06142022141656-0000.avi.mp4.CLEANED.slp.h5\n",
      "//Volumes/Storage/data/processed_features_020924/3095_d8_balbc_t1_zscored_features.parquet\n",
      "3095_d9_mCD1_t2\n",
      "//Volumes/Storage/data/h5_files/h5_files/3095_d9_mCD1_t2_top-06152022152323-0000.avi.mp4.CLEANED.slp.h5\n",
      "//Volumes/Storage/data/processed_features_020924/3095_d9_mCD1_t2_zscored_features.parquet\n",
      "3095_d9_mCD1_t3\n",
      "//Volumes/Storage/data/h5_files/h5_files/3095_d9_mCD1_t3_top-06152022153203-0000.avi.mp4.CLEANED.slp.h5\n",
      "//Volumes/Storage/data/processed_features_020924/3095_d9_mCD1_t3_zscored_features.parquet\n",
      "3097_d9_mCD1_t3\n",
      "//Volumes/Storage/data/h5_files/h5_files/3097_d9_mCD1_t3_top-06162022170758-0000.avi.mp4.CLEANED.slp.h5\n",
      "//Volumes/Storage/data/processed_features_020924/3097_d9_mCD1_t3_zscored_features.parquet\n",
      "30B_d9_mCD1_t3\n",
      "//Volumes/Storage/data/h5_files/h5_files/30B_d9_mCD1_t3_topCam-04212023165333-0000.avi.mp4.CLEANED.slp.h5\n",
      "//Volumes/Storage/data/processed_features_020924/30B_d9_mCD1_t3_zscored_features.parquet\n",
      "30L_d4_balbc_t1\n",
      "//Volumes/Storage/data/h5_files/h5_files/30L_d4_balbc_t1_topCam-04152023155659-0000.avi.mp4.CLEANED.slp.h5\n",
      "//Volumes/Storage/data/processed_features_020924/30L_d4_balbc_t1_zscored_features.parquet\n",
      "30L_d8_balbc_t1\n",
      "//Volumes/Storage/data/h5_files/h5_files/30L_d8_balbc_t1_topCam-04192023152805-0000.avi.mp4.CLEANED.slp.h5\n",
      "//Volumes/Storage/data/processed_features_020924/30L_d8_balbc_t1_zscored_features.parquet\n",
      "30L_d9_mCD1_t1\n",
      "//Volumes/Storage/data/h5_files/h5_files/30L_d9_mCD1_t1_topCam-04202023174310-0000.avi.mp4.CLEANED.slp.h5\n",
      "//Volumes/Storage/data/processed_features_020924/30L_d9_mCD1_t1_zscored_features.parquet\n",
      "30L_d9_mCD1_t3\n",
      "//Volumes/Storage/data/h5_files/h5_files/30L_d9_mCD1_t3_topCam-04202023180720-0000.avi.mp4.CLEANED.slp.h5\n",
      "//Volumes/Storage/data/processed_features_020924/30L_d9_mCD1_t3_zscored_features.parquet\n",
      "30R2_d9_OBSmCD1_t1\n",
      "//Volumes/Storage/data/h5_files/h5_files/30R2_d9_OBSmCD1_t1_topCam-05012023143534-0000.avi.mp4.CLEANED.slp.h5\n",
      "//Volumes/Storage/data/processed_features_020924/30R2_d9_OBSmCD1_t1_zscored_features.parquet\n",
      "30R2_d9_OBSmCD1_t3\n",
      "//Volumes/Storage/data/h5_files/h5_files/30R2_d9_OBSmCD1_t3_topCam-05012023150305-0000.avi.mp4.CLEANED.slp.h5\n",
      "//Volumes/Storage/data/processed_features_020924/30R2_d9_OBSmCD1_t3_zscored_features.parquet\n",
      "4013_d1_balbc_t2\n",
      "//Volumes/Storage/data/h5_files/h5_files/4013_d1_balbc_t2_topcam-11262022151258-0000.avi.mp4.CLEANED.slp.h5\n",
      "//Volumes/Storage/data/processed_features_020924/4013_d1_balbc_t2_zscored_features.parquet\n",
      "4014_d9_mCD1_t1\n",
      "//Volumes/Storage/data/h5_files/h5_files/4014_d9_mCD1_t1_topcam-12052022171433-0000.avi.mp4.CLEANED.slp.h5\n",
      "//Volumes/Storage/data/processed_features_020924/4014_d9_mCD1_t1_zscored_features.parquet\n",
      "4014_d9_mCD1_t2\n",
      "//Volumes/Storage/data/h5_files/h5_files/4014_d9_mCD1_t2_topcam-12052022172333-0000.avi.mp4.CLEANED.slp.h5\n",
      "//Volumes/Storage/data/processed_features_020924/4014_d9_mCD1_t2_zscored_features.parquet\n",
      "4014_d9_mCD1_t3\n",
      "//Volumes/Storage/data/h5_files/h5_files/4014_d9_mCD1_t3_topcam-12052022173254-0000.avi.mp4.CLEANED.slp.h5\n",
      "//Volumes/Storage/data/processed_features_020924/4014_d9_mCD1_t3_zscored_features.parquet\n",
      "4015_d8_balbc_t1\n",
      "//Volumes/Storage/data/h5_files/h5_files/4015_d8_balbc_t1_topcam-12032022163835-0000.avi.mp4.CLEANED.slp.h5\n",
      "//Volumes/Storage/data/processed_features_020924/4015_d8_balbc_t1_zscored_features.parquet\n",
      "4015_d9_mCD1_t1\n",
      "//Volumes/Storage/data/h5_files/h5_files/4015_d9_mCD1_t1_topcam-12062022151528-0000.avi.mp4.CLEANED.slp.h5\n",
      "//Volumes/Storage/data/processed_features_020924/4015_d9_mCD1_t1_zscored_features.parquet\n",
      "4015_d9_mCD1_t2\n",
      "//Volumes/Storage/data/h5_files/h5_files/4015_d9_mCD1_t2_topcam-12062022152606-0000.avi.mp4.CLEANED.slp.h5\n",
      "//Volumes/Storage/data/processed_features_020924/4015_d9_mCD1_t2_zscored_features.parquet\n",
      "4015_d9_mCD1_t3\n",
      "//Volumes/Storage/data/h5_files/h5_files/4015_d9_mCD1_t3_topcam-12062022153546-0000.avi.mp4.CLEANED.slp.h5\n",
      "//Volumes/Storage/data/processed_features_020924/4015_d9_mCD1_t3_zscored_features.parquet\n",
      "4016_d9_mCD1_t1\n",
      "//Volumes/Storage/data/h5_files/h5_files/4016_d9_mCD1_t1_topcam-12052022190553-0000.avi.mp4.CLEANED.slp.h5\n",
      "//Volumes/Storage/data/processed_features_020924/4016_d9_mCD1_t1_zscored_features.parquet\n",
      "4016_d9_mCD1_t2\n",
      "//Volumes/Storage/data/h5_files/h5_files/4016_d9_mCD1_t2_topcam-12052022191731-0000.avi.mp4.CLEANED.slp.h5\n",
      "//Volumes/Storage/data/processed_features_020924/4016_d9_mCD1_t2_zscored_features.parquet\n",
      "86L2_d9_toyCD1_t1\n",
      "//Volumes/Storage/data/h5_files/h5_files/86L2_d9_toyCD1_t1_topCam-02162024161429-0000.avi.mp4.CLEANED.slp.h5\n",
      "//Volumes/Storage/data/processed_features_020924/86L2_d9_toyCD1_t1_zscored_features.parquet\n",
      "87L2_d9_OBSmCD1_t1\n",
      "//Volumes/Storage/data/h5_files/h5_files/87L2_d9_OBSmCD1_t1_topCam-02092024154755-0000.avi.mp4.CLEANED.slp.h5\n",
      "//Volumes/Storage/data/processed_features_020924/87L2_d9_OBSmCD1_t1_zscored_features.parquet\n",
      "87L2_d9_OBSmCD1_t2\n",
      "//Volumes/Storage/data/h5_files/h5_files/87L2_d9_OBSmCD1_t2_topCam-02092024160230-0000.avi.mp4.CLEANED.slp.h5\n",
      "//Volumes/Storage/data/processed_features_020924/87L2_d9_OBSmCD1_t2_zscored_features.parquet\n",
      "87L2_d9_OBSmCD1_t3\n",
      "//Volumes/Storage/data/h5_files/h5_files/87L2_d9_OBSmCD1_t3_topCam-02092024161846-0000.avi.mp4.CLEANED.slp.h5\n",
      "//Volumes/Storage/data/processed_features_020924/87L2_d9_OBSmCD1_t3_zscored_features.parquet\n",
      "87L_d9_toyCD1_t2\n",
      "//Volumes/Storage/data/h5_files/h5_files/87L_d9_toyCD1_t2_topCam-02172024160715-0000.avi.mp4.CLEANED.slp.h5\n",
      "//Volumes/Storage/data/processed_features_020924/87L_d9_toyCD1_t2_zscored_features.parquet\n",
      "87L_d9_toyCD1_t3\n",
      "//Volumes/Storage/data/h5_files/h5_files/87L_d9_toyCD1_t3_topCam-02172024162219-0000.avi.mp4.CLEANED.slp.h5\n",
      "//Volumes/Storage/data/processed_features_020924/87L_d9_toyCD1_t3_zscored_features.parquet\n",
      "87R2_d9_toyCD1_t2\n",
      "//Volumes/Storage/data/h5_files/h5_files/87R2_d9_toyCD1_t2_topCam-02162024183659-0000.avi.mp4.CLEANED.slp.h5\n",
      "//Volumes/Storage/data/processed_features_020924/87R2_d9_toyCD1_t2_zscored_features.parquet\n",
      "91R2_d1_balbc_t1\n",
      "//Volumes/Storage/data/h5_files/h5_files/91R2_d1_balbc_t1_topCam-04122023144241-0000.avi.mp4.CLEANED.slp.h5\n",
      "//Volumes/Storage/data/processed_features_020924/91R2_d1_balbc_t1_zscored_features.parquet\n",
      "91R2_d1_balbc_t2\n",
      "//Volumes/Storage/data/h5_files/h5_files/91R2_d1_balbc_t2_topCam-04122023151330-0000.avi.mp4.CLEANED.slp.h5\n",
      "//Volumes/Storage/data/processed_features_020924/91R2_d1_balbc_t2_zscored_features.parquet\n",
      "91R2_d2_balbc_t2\n",
      "//Volumes/Storage/data/h5_files/h5_files/91R2_d2_balbc_t2_topCam-04132023143021-0000.avi.mp4.CLEANED.slp.h5\n",
      "//Volumes/Storage/data/processed_features_020924/91R2_d2_balbc_t2_zscored_features.parquet\n",
      "91R2_d9_mCD1_t2\n",
      "//Volumes/Storage/data/h5_files/h5_files/91R2_d9_mCD1_t2_topCam-04202023154919-0000.avi.mp4.CLEANED.slp.h5\n",
      "//Volumes/Storage/data/processed_features_020924/91R2_d9_mCD1_t2_zscored_features.parquet\n"
     ]
    }
   ],
   "source": [
    "attack_frames = {}\n",
    "investigation_frames = {}\n",
    "\n",
    "agg_integer_encoded_frames = {}\n",
    "inv_integer_encoded_frames = {}\n",
    "\n",
    "for i, file in enumerate(all_bfiles.keys()):\n",
    "\n",
    "    # load boris file\n",
    "\n",
    "    behs = all_bfiles[file]\n",
    "    print(file)\n",
    "\n",
    "    # match frame indices between boris file and slp file\n",
    "\n",
    "    h5_frame_check = [x for x in h5_files if file in x][0]\n",
    "    print(h5_frame_check)\n",
    "    pickle_frame_check = [x for x in feature_files if file in x][0]\n",
    "    print(pickle_frame_check)\n",
    "    \n",
    "    # load datasets\n",
    "    \n",
    "    with h5py.File(h5_frame_check, \"r\") as z:\n",
    "        occupancy_matrix = z['track_occupancy'][:]\n",
    "        \n",
    "    feature_data = features[file]\n",
    "    \n",
    "    # compute frame diff\n",
    "    frame_diff_slp = occupancy_matrix.shape[0] - feature_data.shape[0]\n",
    "    # frame_diff_slp = 0\n",
    "    new_behs = behs.copy()\n",
    "    new_behs['Frame'] = behs['Frame'] - frame_diff_slp\n",
    "    idxs2keep = np.where(new_behs['Frame'] >= 0)[0]\n",
    "    new_behs = new_behs.iloc[idxs2keep]\n",
    "    if new_behs['State'].iloc[0] == 'STOP':\n",
    "        new_behs = behs.iloc[1:]\n",
    "        \n",
    "    \n",
    "    ### extract attack frames ### \n",
    "\n",
    "    encoded_integers = np.zeros((feature_data.shape[0]))\n",
    "    # encoded_integers = np.zeros((occupancy_matrix.shape[0]))\n",
    "\n",
    "    try: atk1_idxs = np.where(new_behs['Behavior'] == 'unilateral_attack_resident')[0]\n",
    "    except IndexError: atk1_idxs = []\n",
    "\n",
    "    try: atk2_idxs = np.where(new_behs['Behavior'] == 'fight_from_resident_with_resistance')[0]\n",
    "    except IndexError: atk2_idxs = []\n",
    "\n",
    "    try: atk3_idxs = np.where(new_behs['Behavior'] == 'attack/fight')[0]\n",
    "    except IndexError: atk3_idxs = []\n",
    "\n",
    "    try: atk4_idxs = np.where(new_behs['Behavior'] == 'fight_from_intruder_with_resistance')[0]\n",
    "    except IndexError: atk4_idxs = []\n",
    "\n",
    "    # initialize an empty list to store non-empty arrays\n",
    "    non_empty_arrays = []\n",
    "    list_of_arrays = [atk1_idxs, atk2_idxs, atk3_idxs, atk4_idxs]\n",
    "\n",
    "    # iterate through the list\n",
    "    for array in list_of_arrays:\n",
    "        # check if the array is not empty\n",
    "        if len(array) != 0:\n",
    "            # concatenate the array to the new list\n",
    "            non_empty_arrays.append(array)\n",
    "    \n",
    "    non_empty_arrays = np.concatenate(non_empty_arrays)\n",
    "\n",
    "    # sort the new list\n",
    "    idxs = np.sort(np.array(non_empty_arrays))\n",
    "\n",
    "    frames = []\n",
    "    for i, val in enumerate(new_behs.iloc[idxs]['Frame']):\n",
    "        if i % 2 == 0:\n",
    "            frames.append(np.arange(val, new_behs.iloc[idxs]['Frame'].iloc[i+1]))\n",
    "    frames = np.concatenate(frames)\n",
    "    attack_frames[file] = frames\n",
    "    \n",
    "    for f in frames:\n",
    "        encoded_integers[f] = 1\n",
    "    \n",
    "    agg_integer_encoded_frames[file] = encoded_integers"
   ]
  },
  {
   "cell_type": "markdown",
   "id": "bd7906c3",
   "metadata": {},
   "source": [
    "#### Format for RFC"
   ]
  },
  {
   "cell_type": "markdown",
   "id": "da94cadf",
   "metadata": {},
   "source": [
    "Do y"
   ]
  },
  {
   "cell_type": "code",
   "execution_count": 22,
   "id": "2da4449e",
   "metadata": {},
   "outputs": [],
   "source": [
    "unstacked_labels = []\n",
    "\n",
    "\n",
    "agg_unstacked_labels = []\n",
    "\n",
    "for key in agg_integer_encoded_frames.keys():\n",
    "    agg_unstacked_labels.append(agg_integer_encoded_frames[key])\n",
    "    # inv_unstacked_labels.append(inv_integer_encoded_frames[key])\n",
    "    \n",
    "y = np.hstack(agg_unstacked_labels)\n"
   ]
  },
  {
   "cell_type": "markdown",
   "id": "8df29edb",
   "metadata": {},
   "source": [
    "Do X"
   ]
  },
  {
   "cell_type": "code",
   "execution_count": 23,
   "id": "0fcf21ae",
   "metadata": {},
   "outputs": [],
   "source": [
    "sessions = list(agg_integer_encoded_frames.keys())\n",
    "unpacked_features = [features[x] for x in sessions]\n",
    "X = np.concatenate(unpacked_features, axis=0)"
   ]
  },
  {
   "cell_type": "code",
   "execution_count": 24,
   "id": "636e24f7",
   "metadata": {},
   "outputs": [],
   "source": [
    "def temporal_resample(X, y, window_size):\n",
    "\n",
    "    data = pd.concat([pd.DataFrame(X), pd.DataFrame(y)], axis=1)\n",
    "\n",
    "    # Separate the minority and majority classes\n",
    "    minority_data = data[data.iloc[:, -1] == 1]\n",
    "    majority_data = data[data.iloc[:, -1] == 0]\n",
    "\n",
    "    # Calculate the number of samples to generate\n",
    "    num_samples = len(majority_data) - len(minority_data)\n",
    "\n",
    "    # Generate new samples\n",
    "    new_samples = minority_data.sample(n=num_samples, replace=True, random_state=42)\n",
    "\n",
    "    # Add the new samples to the original data\n",
    "    resampled_data = pd.concat([majority_data, new_samples])\n",
    "\n",
    "    # Sort the data by the time column to maintain temporal structure\n",
    "    resampled_data = resampled_data.sort_index()\n",
    "\n",
    "    # Separate resampled X and y\n",
    "    X_resampled = resampled_data.iloc[:, :-1]\n",
    "    y_resampled = resampled_data.iloc[:, -1]\n",
    "\n",
    "    return X_resampled, y_resampled\n",
    "\n",
    "X_resampled, y_resampled = temporal_resample(X.copy(), y.copy(), window_size=100)\n",
    "y_resampled = y_resampled.values\n",
    "X_resampled = X_resampled.values"
   ]
  },
  {
   "cell_type": "code",
   "execution_count": 31,
   "id": "d5294021",
   "metadata": {},
   "outputs": [
    {
     "name": "stdout",
     "output_type": "stream",
     "text": [
      "Original number of attacks: 29805\n",
      "Original number of non-attacks: 729269\n",
      "Resampled number of attacks: 699464\n",
      "Resampled number of non-attacks: 729269\n"
     ]
    }
   ],
   "source": [
    "orig_attacks = np.where(y == 1)\n",
    "print('Original number of attacks:', len(orig_attacks[0]))\n",
    "print('Original number of non-attacks:', len(y) - len(orig_attacks[0]))\n",
    "\n",
    "resampled_attacks = np.where(y_resampled == 1)\n",
    "print('Resampled number of attacks:', len(resampled_attacks[0]))\n",
    "print('Resampled number of non-attacks:', len(y_resampled) - len(resampled_attacks[0]))"
   ]
  },
  {
   "cell_type": "markdown",
   "id": "fe076018",
   "metadata": {},
   "source": [
    "## Build model and run predictions"
   ]
  },
  {
   "cell_type": "markdown",
   "id": "d3f2ffd0",
   "metadata": {},
   "source": [
    "#### Using a Keras MLP classifier"
   ]
  },
  {
   "cell_type": "code",
   "execution_count": 2,
   "id": "06b6c225",
   "metadata": {},
   "outputs": [
    {
     "name": "stdout",
     "output_type": "stream",
     "text": [
      "Keras version: 2.11.0\n",
      "TensorFlow version: 2.11.0\n"
     ]
    }
   ],
   "source": [
    "print(\"Keras version:\", keras.__version__)\n",
    "print(\"TensorFlow version:\", tf.__version__)"
   ]
  },
  {
   "cell_type": "code",
   "execution_count": 1,
   "id": "48d68539",
   "metadata": {},
   "outputs": [
    {
     "name": "stderr",
     "output_type": "stream",
     "text": [
      "2024-10-29 10:13:10.961427: I tensorflow/core/platform/cpu_feature_guard.cc:193] This TensorFlow binary is optimized with oneAPI Deep Neural Network Library (oneDNN) to use the following CPU instructions in performance-critical operations:  AVX2 FMA\n",
      "To enable them in other operations, rebuild TensorFlow with the appropriate compiler flags.\n"
     ]
    }
   ],
   "source": [
    "import tensorflow as tf\n",
    "from tensorflow import keras\n",
    "from tensorflow.keras import regularizers\n",
    "from keras.layers import BatchNormalization\n",
    "from sklearn.metrics import balanced_accuracy_score\n",
    "from tensorflow.keras import backend as K\n",
    "\n",
    "def f1_score_metric(y_true, y_pred):\n",
    "    true_positives = K.sum(K.round(K.clip(y_true * y_pred, 0, 1)))\n",
    "    predicted_positives = K.sum(K.round(K.clip(y_pred, 0, 1)))\n",
    "    actual_positives = K.sum(K.round(K.clip(y_true, 0, 1)))\n",
    "    precision = true_positives / (predicted_positives + K.epsilon())\n",
    "    recall = true_positives / (actual_positives + K.epsilon())\n",
    "    f1_score = 2 * (precision * recall) / (precision + recall + K.epsilon())\n",
    "    return f1_score\n",
    "\n",
    "def precision_metric(y_true, y_pred):\n",
    "    true_positives = K.sum(K.round(K.clip(y_true * y_pred, 0, 1)))\n",
    "    predicted_positives = K.sum(K.round(K.clip(y_pred, 0, 1)))\n",
    "    precision = true_positives / (predicted_positives + K.epsilon())\n",
    "    return precision\n",
    "\n",
    "def balanced_accuracy_metric(y_true, y_pred):\n",
    "    true_positives = K.sum(K.round(K.clip(y_true * y_pred, 0, 1)))\n",
    "    true_negatives = K.sum(K.round(K.clip((1 - y_true) * (1 - y_pred), 0, 1)))\n",
    "    predicted_positives = K.sum(K.round(K.clip(y_pred, 0, 1)))\n",
    "    predicted_negatives = K.sum(K.round(K.clip(1 - y_pred, 0, 1)))\n",
    "    balanced_accuracy = 0.5 * (true_positives / (predicted_positives + K.epsilon()) + true_negatives / (predicted_negatives + K.epsilon()))\n",
    "    return balanced_accuracy"
   ]
  },
  {
   "cell_type": "markdown",
   "id": "db0dcff7",
   "metadata": {},
   "source": [
    "Prepare data:"
   ]
  },
  {
   "cell_type": "code",
   "execution_count": 43,
   "id": "91baa682",
   "metadata": {},
   "outputs": [],
   "source": [
    "from sklearn.model_selection import train_test_split\n",
    "X_train, X_test, y_train, y_test = train_test_split(X_resampled, y_resampled, test_size=0.33, random_state=0, shuffle=True)\n",
    "y_train = y_train.reshape(-1,1)\n",
    "y_test = y_test.reshape(-1,1)"
   ]
  },
  {
   "cell_type": "markdown",
   "id": "0cf8f6eb",
   "metadata": {},
   "source": [
    "Create model and fit:"
   ]
  },
  {
   "cell_type": "code",
   "execution_count": 71,
   "id": "68bf9d1e",
   "metadata": {},
   "outputs": [
    {
     "name": "stdout",
     "output_type": "stream",
     "text": [
      "Epoch 1/50\n",
      "7479/7479 [==============================] - 66s 9ms/step - loss: 0.0735 - balanced_accuracy_metric: 0.9757 - precision_metric: 0.9652 - val_loss: 0.0423 - val_balanced_accuracy_metric: 0.9872 - val_precision_metric: 0.9758\n",
      "Epoch 2/50\n",
      "7479/7479 [==============================] - 66s 9ms/step - loss: 0.0372 - balanced_accuracy_metric: 0.9886 - precision_metric: 0.9828 - val_loss: 0.0394 - val_balanced_accuracy_metric: 0.9886 - val_precision_metric: 0.9850\n",
      "Epoch 3/50\n",
      "7479/7479 [==============================] - 64s 9ms/step - loss: 0.0283 - balanced_accuracy_metric: 0.9916 - precision_metric: 0.9874 - val_loss: 0.0280 - val_balanced_accuracy_metric: 0.9921 - val_precision_metric: 0.9908\n",
      "Epoch 4/50\n",
      "7479/7479 [==============================] - 77s 10ms/step - loss: 0.0235 - balanced_accuracy_metric: 0.9930 - precision_metric: 0.9896 - val_loss: 0.0214 - val_balanced_accuracy_metric: 0.9940 - val_precision_metric: 0.9903\n",
      "Epoch 5/50\n",
      "7479/7479 [==============================] - 79s 11ms/step - loss: 0.0207 - balanced_accuracy_metric: 0.9938 - precision_metric: 0.9909 - val_loss: 0.0197 - val_balanced_accuracy_metric: 0.9943 - val_precision_metric: 0.9922\n",
      "Epoch 6/50\n",
      "7479/7479 [==============================] - 74s 10ms/step - loss: 0.0186 - balanced_accuracy_metric: 0.9944 - precision_metric: 0.9918 - val_loss: 0.0166 - val_balanced_accuracy_metric: 0.9954 - val_precision_metric: 0.9921\n",
      "Epoch 7/50\n",
      "7479/7479 [==============================] - 81s 11ms/step - loss: 0.0172 - balanced_accuracy_metric: 0.9948 - precision_metric: 0.9924 - val_loss: 0.0156 - val_balanced_accuracy_metric: 0.9955 - val_precision_metric: 0.9924\n",
      "Epoch 8/50\n",
      "7479/7479 [==============================] - 78s 10ms/step - loss: 0.0160 - balanced_accuracy_metric: 0.9952 - precision_metric: 0.9929 - val_loss: 0.0165 - val_balanced_accuracy_metric: 0.9951 - val_precision_metric: 0.9934\n",
      "Epoch 9/50\n",
      "7479/7479 [==============================] - 75s 10ms/step - loss: 0.0153 - balanced_accuracy_metric: 0.9954 - precision_metric: 0.9932 - val_loss: 0.0144 - val_balanced_accuracy_metric: 0.9960 - val_precision_metric: 0.9933\n",
      "Epoch 10/50\n",
      "7479/7479 [==============================] - 80s 11ms/step - loss: 0.0144 - balanced_accuracy_metric: 0.9956 - precision_metric: 0.9936 - val_loss: 0.0142 - val_balanced_accuracy_metric: 0.9957 - val_precision_metric: 0.9939\n",
      "Epoch 11/50\n",
      "7479/7479 [==============================] - 82s 11ms/step - loss: 0.0139 - balanced_accuracy_metric: 0.9958 - precision_metric: 0.9938 - val_loss: 0.0129 - val_balanced_accuracy_metric: 0.9960 - val_precision_metric: 0.9942\n",
      "Epoch 12/50\n",
      "7479/7479 [==============================] - 82s 11ms/step - loss: 0.0133 - balanced_accuracy_metric: 0.9960 - precision_metric: 0.9940 - val_loss: 0.0127 - val_balanced_accuracy_metric: 0.9964 - val_precision_metric: 0.9941\n",
      "Epoch 13/50\n",
      "7479/7479 [==============================] - 77s 10ms/step - loss: 0.0130 - balanced_accuracy_metric: 0.9961 - precision_metric: 0.9942 - val_loss: 0.0138 - val_balanced_accuracy_metric: 0.9961 - val_precision_metric: 0.9936\n",
      "Epoch 14/50\n",
      "7479/7479 [==============================] - 76s 10ms/step - loss: 0.0122 - balanced_accuracy_metric: 0.9963 - precision_metric: 0.9946 - val_loss: 0.0111 - val_balanced_accuracy_metric: 0.9966 - val_precision_metric: 0.9947\n",
      "Epoch 15/50\n",
      "7479/7479 [==============================] - 77s 10ms/step - loss: 0.0120 - balanced_accuracy_metric: 0.9964 - precision_metric: 0.9946 - val_loss: 0.0132 - val_balanced_accuracy_metric: 0.9961 - val_precision_metric: 0.9935\n",
      "Epoch 16/50\n",
      "7479/7479 [==============================] - 76s 10ms/step - loss: 0.0117 - balanced_accuracy_metric: 0.9964 - precision_metric: 0.9948 - val_loss: 0.0108 - val_balanced_accuracy_metric: 0.9966 - val_precision_metric: 0.9952\n",
      "Epoch 17/50\n",
      "7479/7479 [==============================] - 77s 10ms/step - loss: 0.0115 - balanced_accuracy_metric: 0.9965 - precision_metric: 0.9948 - val_loss: 0.0122 - val_balanced_accuracy_metric: 0.9965 - val_precision_metric: 0.9951\n",
      "Epoch 18/50\n",
      "7479/7479 [==============================] - 80s 11ms/step - loss: 0.0112 - balanced_accuracy_metric: 0.9965 - precision_metric: 0.9949 - val_loss: 0.0095 - val_balanced_accuracy_metric: 0.9972 - val_precision_metric: 0.9950\n",
      "Epoch 19/50\n",
      "7479/7479 [==============================] - 78s 10ms/step - loss: 0.0108 - balanced_accuracy_metric: 0.9967 - precision_metric: 0.9952 - val_loss: 0.0107 - val_balanced_accuracy_metric: 0.9967 - val_precision_metric: 0.9952\n",
      "Epoch 20/50\n",
      "7479/7479 [==============================] - 80s 11ms/step - loss: 0.0104 - balanced_accuracy_metric: 0.9968 - precision_metric: 0.9953 - val_loss: 0.0111 - val_balanced_accuracy_metric: 0.9966 - val_precision_metric: 0.9950\n",
      "Epoch 21/50\n",
      "7479/7479 [==============================] - 79s 11ms/step - loss: 0.0103 - balanced_accuracy_metric: 0.9969 - precision_metric: 0.9954 - val_loss: 0.0112 - val_balanced_accuracy_metric: 0.9966 - val_precision_metric: 0.9946\n",
      "Epoch 22/50\n",
      "7479/7479 [==============================] - 75s 10ms/step - loss: 0.0100 - balanced_accuracy_metric: 0.9969 - precision_metric: 0.9954 - val_loss: 0.0122 - val_balanced_accuracy_metric: 0.9962 - val_precision_metric: 0.9955\n",
      "Epoch 23/50\n",
      "7479/7479 [==============================] - 77s 10ms/step - loss: 0.0100 - balanced_accuracy_metric: 0.9970 - precision_metric: 0.9955 - val_loss: 0.0106 - val_balanced_accuracy_metric: 0.9971 - val_precision_metric: 0.9957\n",
      "Epoch 24/50\n",
      "7479/7479 [==============================] - 76s 10ms/step - loss: 0.0098 - balanced_accuracy_metric: 0.9970 - precision_metric: 0.9955 - val_loss: 0.0096 - val_balanced_accuracy_metric: 0.9972 - val_precision_metric: 0.9951\n",
      "Epoch 25/50\n",
      "7479/7479 [==============================] - 74s 10ms/step - loss: 0.0097 - balanced_accuracy_metric: 0.9970 - precision_metric: 0.9956 - val_loss: 0.0094 - val_balanced_accuracy_metric: 0.9970 - val_precision_metric: 0.9955\n",
      "Epoch 26/50\n",
      "7479/7479 [==============================] - 66s 9ms/step - loss: 0.0094 - balanced_accuracy_metric: 0.9971 - precision_metric: 0.9957 - val_loss: 0.0105 - val_balanced_accuracy_metric: 0.9967 - val_precision_metric: 0.9959\n",
      "Epoch 27/50\n",
      "7479/7479 [==============================] - 66s 9ms/step - loss: 0.0092 - balanced_accuracy_metric: 0.9971 - precision_metric: 0.9958 - val_loss: 0.0097 - val_balanced_accuracy_metric: 0.9969 - val_precision_metric: 0.9960\n",
      "Epoch 28/50\n",
      "7479/7479 [==============================] - 64s 9ms/step - loss: 0.0091 - balanced_accuracy_metric: 0.9971 - precision_metric: 0.9958 - val_loss: 0.0101 - val_balanced_accuracy_metric: 0.9969 - val_precision_metric: 0.9952\n",
      "Epoch 29/50\n",
      "7479/7479 [==============================] - 62s 8ms/step - loss: 0.0089 - balanced_accuracy_metric: 0.9972 - precision_metric: 0.9959 - val_loss: 0.0099 - val_balanced_accuracy_metric: 0.9971 - val_precision_metric: 0.9957\n",
      "Epoch 30/50\n",
      "7479/7479 [==============================] - 74s 10ms/step - loss: 0.0089 - balanced_accuracy_metric: 0.9972 - precision_metric: 0.9959 - val_loss: 0.0097 - val_balanced_accuracy_metric: 0.9971 - val_precision_metric: 0.9961\n",
      "Epoch 31/50\n",
      "7479/7479 [==============================] - 71s 10ms/step - loss: 0.0086 - balanced_accuracy_metric: 0.9973 - precision_metric: 0.9960 - val_loss: 0.0086 - val_balanced_accuracy_metric: 0.9974 - val_precision_metric: 0.9957\n",
      "Epoch 32/50\n",
      "7479/7479 [==============================] - 74s 10ms/step - loss: 0.0086 - balanced_accuracy_metric: 0.9973 - precision_metric: 0.9960 - val_loss: 0.0090 - val_balanced_accuracy_metric: 0.9972 - val_precision_metric: 0.9960\n",
      "Epoch 33/50\n",
      "7479/7479 [==============================] - 71s 10ms/step - loss: 0.0084 - balanced_accuracy_metric: 0.9973 - precision_metric: 0.9961 - val_loss: 0.0087 - val_balanced_accuracy_metric: 0.9974 - val_precision_metric: 0.9958\n",
      "Epoch 34/50\n",
      "7479/7479 [==============================] - 71s 10ms/step - loss: 0.0084 - balanced_accuracy_metric: 0.9974 - precision_metric: 0.9961 - val_loss: 0.0088 - val_balanced_accuracy_metric: 0.9972 - val_precision_metric: 0.9957\n",
      "Epoch 35/50\n",
      "7479/7479 [==============================] - 71s 9ms/step - loss: 0.0082 - balanced_accuracy_metric: 0.9974 - precision_metric: 0.9962 - val_loss: 0.0082 - val_balanced_accuracy_metric: 0.9974 - val_precision_metric: 0.9964\n",
      "Epoch 36/50\n",
      "7479/7479 [==============================] - 71s 10ms/step - loss: 0.0081 - balanced_accuracy_metric: 0.9974 - precision_metric: 0.9962 - val_loss: 0.0078 - val_balanced_accuracy_metric: 0.9977 - val_precision_metric: 0.9959\n",
      "Epoch 37/50\n",
      "7479/7479 [==============================] - 72s 10ms/step - loss: 0.0081 - balanced_accuracy_metric: 0.9974 - precision_metric: 0.9962 - val_loss: 0.0095 - val_balanced_accuracy_metric: 0.9969 - val_precision_metric: 0.9966\n",
      "Epoch 38/50\n",
      "7479/7479 [==============================] - 71s 10ms/step - loss: 0.0080 - balanced_accuracy_metric: 0.9974 - precision_metric: 0.9962 - val_loss: 0.0084 - val_balanced_accuracy_metric: 0.9975 - val_precision_metric: 0.9959\n",
      "Epoch 39/50\n",
      "7479/7479 [==============================] - 72s 10ms/step - loss: 0.0079 - balanced_accuracy_metric: 0.9975 - precision_metric: 0.9963 - val_loss: 0.0086 - val_balanced_accuracy_metric: 0.9973 - val_precision_metric: 0.9962\n",
      "Epoch 40/50\n",
      "7479/7479 [==============================] - 72s 10ms/step - loss: 0.0078 - balanced_accuracy_metric: 0.9975 - precision_metric: 0.9963 - val_loss: 0.0092 - val_balanced_accuracy_metric: 0.9973 - val_precision_metric: 0.9957\n",
      "Epoch 41/50\n",
      "7479/7479 [==============================] - 76s 10ms/step - loss: 0.0078 - balanced_accuracy_metric: 0.9976 - precision_metric: 0.9964 - val_loss: 0.0076 - val_balanced_accuracy_metric: 0.9978 - val_precision_metric: 0.9962\n",
      "Epoch 42/50\n",
      "7479/7479 [==============================] - 70s 9ms/step - loss: 0.0076 - balanced_accuracy_metric: 0.9976 - precision_metric: 0.9965 - val_loss: 0.0085 - val_balanced_accuracy_metric: 0.9974 - val_precision_metric: 0.9965\n",
      "Epoch 43/50\n",
      "7479/7479 [==============================] - 65s 9ms/step - loss: 0.0076 - balanced_accuracy_metric: 0.9976 - precision_metric: 0.9964 - val_loss: 0.0084 - val_balanced_accuracy_metric: 0.9973 - val_precision_metric: 0.9962\n",
      "Epoch 44/50\n",
      "7479/7479 [==============================] - 74s 10ms/step - loss: 0.0077 - balanced_accuracy_metric: 0.9976 - precision_metric: 0.9965 - val_loss: 0.0079 - val_balanced_accuracy_metric: 0.9976 - val_precision_metric: 0.9962\n",
      "Epoch 45/50\n",
      "7479/7479 [==============================] - 72s 10ms/step - loss: 0.0075 - balanced_accuracy_metric: 0.9976 - precision_metric: 0.9965 - val_loss: 0.0081 - val_balanced_accuracy_metric: 0.9976 - val_precision_metric: 0.9959\n",
      "Epoch 46/50\n",
      "7479/7479 [==============================] - 71s 9ms/step - loss: 0.0074 - balanced_accuracy_metric: 0.9976 - precision_metric: 0.9965 - val_loss: 0.0075 - val_balanced_accuracy_metric: 0.9977 - val_precision_metric: 0.9965\n",
      "Epoch 47/50\n",
      "7479/7479 [==============================] - 69s 9ms/step - loss: 0.0074 - balanced_accuracy_metric: 0.9976 - precision_metric: 0.9966 - val_loss: 0.0077 - val_balanced_accuracy_metric: 0.9976 - val_precision_metric: 0.9960\n",
      "Epoch 48/50\n",
      "7479/7479 [==============================] - 70s 9ms/step - loss: 0.0074 - balanced_accuracy_metric: 0.9977 - precision_metric: 0.9965 - val_loss: 0.0075 - val_balanced_accuracy_metric: 0.9977 - val_precision_metric: 0.9962\n",
      "Epoch 49/50\n",
      "7479/7479 [==============================] - 72s 10ms/step - loss: 0.0071 - balanced_accuracy_metric: 0.9977 - precision_metric: 0.9967 - val_loss: 0.0082 - val_balanced_accuracy_metric: 0.9976 - val_precision_metric: 0.9959\n",
      "Epoch 50/50\n",
      "7479/7479 [==============================] - 70s 9ms/step - loss: 0.0071 - balanced_accuracy_metric: 0.9977 - precision_metric: 0.9967 - val_loss: 0.0071 - val_balanced_accuracy_metric: 0.9979 - val_precision_metric: 0.9963\n"
     ]
    },
    {
     "data": {
      "text/plain": [
       "<keras.callbacks.History at 0x7fd0ce325fa0>"
      ]
     },
     "execution_count": 71,
     "metadata": {},
     "output_type": "execute_result"
    }
   ],
   "source": [
    "# Define the function to create the MLP model\n",
    "def create_nn(hidden_units=64):\n",
    "    model = keras.Sequential()\n",
    "    model.add(keras.layers.Dense(hidden_units, activation='relu', input_shape=(len(feats_list),)))\n",
    "    model.add(BatchNormalization())\n",
    "    model.add(keras.layers.Dense(hidden_units, activation='relu'))\n",
    "    model.add(BatchNormalization())\n",
    "    model.add(keras.layers.Dense(hidden_units, activation='relu'))\n",
    "    model.add(BatchNormalization())\n",
    "    model.add(keras.layers.Dense(1, activation='sigmoid'))\n",
    "    model.compile(loss='binary_crossentropy', optimizer='adam', metrics=[balanced_accuracy_metric, precision_metric])\n",
    "    return model\n",
    "\n",
    "# create model\n",
    "model = create_nn(hidden_units=512)\n",
    "early_stop = tf.keras.callbacks.EarlyStopping(monitor='val_loss', patience=10)\n",
    "\n",
    "# fit\n",
    "model.fit(X_train, y_train, epochs=50, batch_size=128, validation_data=(X_test, y_test), callbacks=[early_stop])\n"
   ]
  },
  {
   "cell_type": "code",
   "execution_count": 41,
   "id": "45e9d321",
   "metadata": {},
   "outputs": [
    {
     "name": "stdout",
     "output_type": "stream",
     "text": [
      "23722/23722 [==============================] - 37s 2ms/step\n",
      "balanced accuracy: 0.998253\n",
      "precision: 0.931085\n",
      "f1 score: 0.964094\n",
      "recall: 0.999530\n"
     ]
    }
   ],
   "source": [
    "# make model validations using balanced accuracy\n",
    "from sklearn.metrics import f1_score, precision_score, recall_score\n",
    "y_pred = loaded_model.predict(X) # original, non-resampled data\n",
    "# y_pred = model.predict(X)\n",
    "y_pred_labels = (y_pred > 0.5).astype(int)\n",
    "print('balanced accuracy: %f' % balanced_accuracy_score(y, y_pred_labels))\n",
    "print('precision: %f' % precision_score(y, y_pred_labels))\n",
    "print('f1 score: %f' % f1_score(y, y_pred_labels))\n",
    "print('recall: %f' % recall_score(y, y_pred_labels))\n",
    "      "
   ]
  },
  {
   "cell_type": "code",
   "execution_count": 45,
   "id": "9fe80554",
   "metadata": {},
   "outputs": [
    {
     "data": {
      "text/plain": [
       "(array([0.5, 1.5]),\n",
       " [Text(0, 0.5, 'Actual Negative'), Text(0, 1.5, 'Actual Positive')])"
      ]
     },
     "execution_count": 45,
     "metadata": {},
     "output_type": "execute_result"
    },
    {
     "data": {
      "image/png": "[encoded data removed]",
      "text/plain": [
       "<Figure size 576x432 with 2 Axes>"
      ]
     },
     "metadata": {
      "needs_background": "light"
     },
     "output_type": "display_data"
    }
   ],
   "source": [
    "from sklearn.metrics import confusion_matrix, balanced_accuracy_score, f1_score, precision_score, recall_score\n",
    "cm = confusion_matrix(y, y_pred_labels)\n",
    "cm = cm.astype('float') / cm.sum(axis=1)[:, np.newaxis]\n",
    "plt.figure(figsize=(8, 6))\n",
    "sns.heatmap(cm, annot=True, cmap='Blues', xticklabels=['Predicted Negative', 'Predicted Positive'], yticklabels=['Actual Negative', 'Actual Positive'])\n",
    "plt.xticks(fontsize=18, fontfamily='Arial')\n",
    "plt.yticks(fontsize=18, fontfamily='Arial')\n",
    "# plt.savefig('confusion_matrix.svg', dpi=300)\n"
   ]
  },
  {
   "cell_type": "code",
   "execution_count": 44,
   "id": "2dc78f6a",
   "metadata": {},
   "outputs": [
    {
     "name": "stdout",
     "output_type": "stream",
     "text": [
      "14734/14734 [==============================] - 23s 2ms/step\n",
      "balanced accuracy: 0.998000\n",
      "precision: 0.996312\n",
      "f1 score: 0.997924\n",
      "recall: 0.999540\n"
     ]
    }
   ],
   "source": [
    "# make model validations using balanced accuracy\n",
    "from sklearn.metrics import f1_score, precision_score, recall_score\n",
    "y_pred_validation = loaded_model.predict(X_test) # validation set, resampled\n",
    "y_pred_labels_validation = (y_pred_validation > 0.5).astype(int)\n",
    "print('balanced accuracy: %f' % balanced_accuracy_score(y_test, y_pred_labels_validation))\n",
    "print('precision: %f' % precision_score(y_test, y_pred_labels_validation))\n",
    "print('f1 score: %f' % f1_score(y_test, y_pred_labels_validation))\n",
    "print('recall: %f' % recall_score(y_test, y_pred_labels_validation))\n",
    "      "
   ]
  },
  {
   "cell_type": "code",
   "execution_count": 46,
   "id": "783a1689",
   "metadata": {},
   "outputs": [
    {
     "data": {
      "text/plain": [
       "(array([0.5, 1.5]),\n",
       " [Text(0, 0.5, 'Actual Negative'), Text(0, 1.5, 'Actual Positive')])"
      ]
     },
     "execution_count": 46,
     "metadata": {},
     "output_type": "execute_result"
    },
    {
     "data": {
      "image/png": "[encoded data removed]",
      "text/plain": [
       "<Figure size 576x432 with 2 Axes>"
      ]
     },
     "metadata": {
      "needs_background": "light"
     },
     "output_type": "display_data"
    }
   ],
   "source": [
    "from sklearn.metrics import confusion_matrix, balanced_accuracy_score, f1_score, precision_score, recall_score\n",
    "cm = confusion_matrix(y_test, y_pred_labels_validation)\n",
    "cm = cm.astype('float') / cm.sum(axis=1)[:, np.newaxis]\n",
    "plt.figure(figsize=(8, 6))\n",
    "sns.heatmap(cm, annot=True, cmap='Blues', xticklabels=['Predicted Negative', 'Predicted Positive'], yticklabels=['Actual Negative', 'Actual Positive'])\n",
    "plt.xticks(fontsize=18, fontfamily='Arial')\n",
    "plt.yticks(fontsize=18, fontfamily='Arial')\n",
    "# plt.savefig('confusion_matrix.svg', dpi=300)\n"
   ]
  },
  {
   "cell_type": "code",
   "execution_count": 47,
   "id": "158e4d5d",
   "metadata": {},
   "outputs": [
    {
     "data": {
      "image/png": "[encoded data removed]",
      "text/plain": [
       "<Figure size 432x216 with 5 Axes>"
      ]
     },
     "metadata": {},
     "output_type": "display_data"
    }
   ],
   "source": [
    "plt.close()\n",
    "a = y_pred_labels.ravel()\n",
    "b = y.ravel()\n",
    "\n",
    "windows = np.arange(0, len(a), 2500)\n",
    "\n",
    "fig, ax = plt.subplots(5, 1, figsize=(6, 3))\n",
    "for w, window in enumerate(windows[[0, 1, 2, 34, 29]]):\n",
    "    ax[w].plot(b[window:window+2500], color='black', label='true')\n",
    "    ax[w].plot(a[window:window+2500], alpha=0.5, color='red', linewidth=3, label='pred')\n",
    "    ax[w].set_yticks([])\n",
    "    ax[w].set_xticks([])\n",
    "# plt.savefig('pred_true.svg', dpi=300)"
   ]
  },
  {
   "cell_type": "code",
   "execution_count": 84,
   "id": "1b7dab46",
   "metadata": {},
   "outputs": [],
   "source": [
    "# Save the trained model\n",
    "model.save('MLP_041824_512units_balancedAcc&Precision.h5')"
   ]
  },
  {
   "cell_type": "markdown",
   "id": "4d95d88c",
   "metadata": {},
   "source": [
    "Predict labels and save resulting dictionary"
   ]
  },
  {
   "cell_type": "code",
   "execution_count": 4,
   "id": "30315fa5",
   "metadata": {},
   "outputs": [],
   "source": [
    "def extract_segments(array):\n",
    "    segments = []\n",
    "    current_segment = []\n",
    "\n",
    "    for i in range(len(array)):\n",
    "        if i > 0 and array[i] != array[i-1] + 1:\n",
    "            segments.append(np.array(current_segment))\n",
    "            current_segment = []\n",
    "        current_segment.append(array[i])\n",
    "\n",
    "    if current_segment:\n",
    "        segments.append(np.array(current_segment))\n",
    "\n",
    "    return segments\n",
    "\n",
    "def concatenate_arrays(arrays, distance_of_frames=2):\n",
    "    result = []\n",
    "    current_array = arrays[0]\n",
    "\n",
    "    for i in range(1, len(arrays)):\n",
    "        if arrays[i][0] - current_array[-1] <= distance_of_frames:\n",
    "            current_array = np.concatenate((current_array, arrays[i]))\n",
    "            current_array = fill_missing_numbers(current_array)\n",
    "        else:\n",
    "            result.append(current_array)\n",
    "            current_array = arrays[i]\n",
    "\n",
    "    result.append(current_array)\n",
    "    return np.array(result)\n",
    "\n",
    "def process_binary_labels(labels):\n",
    "    \n",
    "    segments = extract_segments(np.where(labels==1)[0])\n",
    "    joined_segments = concatenate_arrays(segments)\n",
    "    new_labels = generate_binary_array(np.concatenate(joined_segments), labels.shape[0])\n",
    "    \n",
    "    return new_labels\n",
    "\n",
    "def generate_binary_array(indices, length):\n",
    "    binary_array = np.zeros(length)\n",
    "    binary_array[indices] = 1\n",
    "    return binary_array\n",
    "\n",
    "\n",
    "def fill_missing_numbers(array):\n",
    "    filled_array = []\n",
    "    for i in range(len(array) - 1):\n",
    "        filled_array.append(array[i])\n",
    "        diff = array[i + 1] - array[i]\n",
    "        if diff > 1:\n",
    "            filled_array.extend(np.arange(array[i] + 1, array[i + 1]))\n",
    "    filled_array.append(array[-1])\n",
    "    return filled_array"
   ]
  },
  {
   "cell_type": "code",
   "execution_count": 35,
   "id": "415416ae",
   "metadata": {
    "scrolled": true
   },
   "outputs": [],
   "source": [
    "from tensorflow.keras.models import load_model\n",
    "\n",
    "# Load the saved model\n",
    "loaded_model = load_model('MLP_041824_512units_balancedAcc&Precision.h5', custom_objects={'balanced_accuracy_metric': balanced_accuracy_metric, 'precision_metric': precision_metric})\n",
    "\n",
    "# labeled_data = {}\n",
    "\n",
    "# for key in features.keys():\n",
    "#     if key.split('_')[0] in ['3095', '3096', '3097', '4013', '4014', '4015', '4016', '91R2', '30L', '30B', '29L', '30R2', '87R2', '87L', '87B', '87L2', '86L', '86L2']:\n",
    "#         fts = features[key].to_numpy()\n",
    "#         y_pred = loaded_model.predict(fts)\n",
    "#         y_pred_labels = (y_pred > 0.5).astype(int)\n",
    "#         if len(np.where(y_pred_labels==1)[0]) == 0:\n",
    "#             labeled_data[key] = y_pred_labels\n",
    "#         else:\n",
    "#             labeled_data[key] = process_binary_labels(y_pred_labels)"
   ]
  },
  {
   "cell_type": "code",
   "execution_count": 95,
   "id": "b711e245",
   "metadata": {},
   "outputs": [],
   "source": [
    "with open(\"supervised_aggression_labels_041824.pickle\", \"wb\") as file:\n",
    "    pickle.dump(labeled_data, file)"
   ]
  },
  {
   "cell_type": "code",
   "execution_count": 114,
   "id": "aca9490f",
   "metadata": {},
   "outputs": [
    {
     "data": {
      "text/plain": [
       "[<matplotlib.lines.Line2D at 0x7fd0ea9606d0>]"
      ]
     },
     "execution_count": 114,
     "metadata": {},
     "output_type": "execute_result"
    },
    {
     "data": {
      "image/png": "[encoded data removed]",
      "text/plain": [
       "<Figure size 2880x360 with 1 Axes>"
      ]
     },
     "metadata": {
      "needs_background": "light"
     },
     "output_type": "display_data"
    }
   ],
   "source": [
    "plt.figure(figsize=(40, 5))\n",
    "plt.plot(labeled_data['30L_d2_balbc_t3'])"
   ]
  },
  {
   "cell_type": "markdown",
   "id": "373d801b",
   "metadata": {},
   "source": [
    "Merge supervised labels with photometry and unsupervised dataset"
   ]
  },
  {
   "cell_type": "code",
   "execution_count": 45,
   "id": "52a369ce",
   "metadata": {
    "scrolled": true
   },
   "outputs": [],
   "source": [
    "supervised = pd.read_pickle('supervised_labels_smoothed_061423.pickle')\n",
    "full_data = pd.read_pickle('traces_with_labels_060623.pickle')"
   ]
  },
  {
   "cell_type": "code",
   "execution_count": 46,
   "id": "ffe7a4b1",
   "metadata": {},
   "outputs": [],
   "source": [
    "complete_data = {}\n",
    "\n",
    "for key in full_data.keys():\n",
    "    labels = supervised[key]\n",
    "    df = full_data[key].copy()\n",
    "    df['supervised labels'] = labels.astype(int)\n",
    "    complete_data[key] = df\n",
    "    \n",
    "with open(\"fully_labeled_traces_smoothedLabels_061423.pickle\", \"wb\") as file:\n",
    "    pickle.dump(complete_data, file)"
   ]
  }
 ],
 "metadata": {
  "kernelspec": {
   "display_name": "Python 3 (ipykernel)",
   "language": "python",
   "name": "python3"
  },
  "language_info": {
   "codemirror_mode": {
    "name": "ipython",
    "version": 3
   },
   "file_extension": ".py",
   "mimetype": "text/x-python",
   "name": "python",
   "nbconvert_exporter": "python",
   "pygments_lexer": "ipython3",
   "version": "3.8.3"
  }
 },
 "nbformat": 4,
 "nbformat_minor": 5
}
